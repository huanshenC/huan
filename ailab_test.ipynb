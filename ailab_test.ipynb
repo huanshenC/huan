{
 "cells": [
  {
   "cell_type": "code",
   "execution_count": 70,
   "id": "e9f6b6f5-c4b8-493e-9b8f-e66d1ff40a65",
   "metadata": {},
   "outputs": [],
   "source": [
    "import numpy as np\n",
    "import matplotlib.pyplot as plt"
   ]
  },
  {
   "cell_type": "code",
   "execution_count": 71,
   "id": "c69ecbbe-5f04-4b83-9e00-bfbf167599cd",
   "metadata": {},
   "outputs": [],
   "source": [
    "# 随机生成一些训练数据\n",
    "np.random.seed(42)  # 设置随机种子\n"
   ]
  },
  {
   "cell_type": "code",
   "execution_count": 72,
   "id": "871884c0-01a4-4f50-a654-a13172013890",
   "metadata": {},
   "outputs": [],
   "source": [
    "# 生成两类数据点\n",
    "num_samples = 100\n",
    "class1 = np.random.randn(num_samples, 2) + [2, 2]  # 第一类数据，围绕(2,2)分布\n",
    "class2 = np.random.randn(num_samples, 2) + [-2, -2]  # 第二类数据，围绕(-2,-2)分布"
   ]
  },
  {
   "cell_type": "code",
   "execution_count": 73,
   "id": "9e70571e-0bd3-4051-872c-469b132f0291",
   "metadata": {},
   "outputs": [],
   "source": [
    "# 合并数据并创建标签\n",
    "X = np.vstack((class1, class2))\n",
    "y = np.hstack((np.zeros(num_samples), np.ones(num_samples)))  # 第一类标签为0，第二类为1"
   ]
  },
  {
   "cell_type": "code",
   "execution_count": 74,
   "id": "fd88f577-d36b-47b3-b4b9-49e0a1451e9b",
   "metadata": {},
   "outputs": [],
   "source": [
    "# 逻辑回归模型实现\n",
    "class LogisticRegression:\n",
    "    def __init__(self, learning_rate=0.01, num_iterations=10000):\n",
    "        self.learning_rate = learning_rate\n",
    "        self.num_iterations = num_iterations\n",
    "        self.weights = None\n",
    "        self.bias = None\n",
    "    \n",
    "    # sigmoid激活函数\n",
    "    def sigmoid(self, z):\n",
    "        return 1 / (1 + np.exp(-z))\n",
    "    \n",
    "    # 训练模型\n",
    "    def fit(self, X, y):\n",
    "        num_samples, num_features = X.shape\n",
    "        \n",
    "        # 初始化参数\n",
    "        self.weights = np.zeros(num_features)\n",
    "        self.bias = 0\n",
    "        \n",
    "        # 梯度下降\n",
    "        for _ in range(self.num_iterations):\n",
    "            # 计算线性输出和预测值\n",
    "            linear_output = np.dot(X, self.weights) + self.bias\n",
    "            y_predicted = self.sigmoid(linear_output)\n",
    "            \n",
    "            # 计算梯度\n",
    "            dw = (1 / num_samples) * np.dot(X.T, (y_predicted - y))\n",
    "            db = (1 / num_samples) * np.sum(y_predicted - y)\n",
    "            \n",
    "            # 更新参数\n",
    "            self.weights -= self.learning_rate * dw\n",
    "            self.bias -= self.learning_rate * db\n",
    "    \n",
    "    # 预测函数\n",
    "    def predict(self, X):\n",
    "        linear_output = np.dot(X, self.weights) + self.bias\n",
    "        y_predicted = self.sigmoid(linear_output)\n",
    "        return [1 if i > 0.5 else 0 for i in y_predicted]"
   ]
  },
  {
   "cell_type": "code",
   "execution_count": 75,
   "id": "f5ceb6a3-077d-4969-b680-0d8957e56a85",
   "metadata": {},
   "outputs": [],
   "source": [
    "# 训练模型\n",
    "model = LogisticRegression(learning_rate=0.1, num_iterations=10000)\n",
    "model.fit(X, y)"
   ]
  },
  {
   "cell_type": "code",
   "execution_count": 76,
   "id": "d9e5f3d8-1cc7-4e78-bcdc-d92715e805b3",
   "metadata": {},
   "outputs": [
    {
     "name": "stdout",
     "output_type": "stream",
     "text": [
      "模型准确率: 100.00%\n"
     ]
    }
   ],
   "source": [
    "# 预测并计算准确率\n",
    "predictions = model.predict(X)\n",
    "accuracy = np.mean(predictions == y)\n",
    "print(f\"模型准确率: {accuracy * 100:.2f}%\")"
   ]
  },
  {
   "cell_type": "code",
   "execution_count": 77,
   "id": "01c73f0a-56d1-4b07-b328-a4ceaafba1ee",
   "metadata": {},
   "outputs": [
    {
     "data": {
      "text/plain": [
       "<Figure size 1000x600 with 0 Axes>"
      ]
     },
     "execution_count": 77,
     "metadata": {},
     "output_type": "execute_result"
    },
    {
     "data": {
      "text/plain": [
       "<Figure size 1000x600 with 0 Axes>"
      ]
     },
     "metadata": {},
     "output_type": "display_data"
    }
   ],
   "source": [
    "# 绘制结果\n",
    "plt.figure(figsize=(10, 6))"
   ]
  },
  {
   "cell_type": "code",
   "execution_count": 78,
   "id": "110e6165-aa4b-4bb0-8565-0c6c0d01ef18",
   "metadata": {},
   "outputs": [
    {
     "data": {
      "text/plain": [
       "<matplotlib.collections.PathCollection at 0x23e088e9940>"
      ]
     },
     "execution_count": 78,
     "metadata": {},
     "output_type": "execute_result"
    },
    {
     "data": {
      "image/png": "[encoded data removed]",
      "text/plain": [
       "<Figure size 640x480 with 1 Axes>"
      ]
     },
     "metadata": {},
     "output_type": "display_data"
    }
   ],
   "source": [
    "# 绘制数据点\n",
    "plt.scatter(class1[:, 0], class1[:, 1], color='blue', label='Class 0')\n",
    "plt.scatter(class2[:, 0], class2[:, 1], color='red', label='Class 1')"
   ]
  },
  {
   "cell_type": "code",
   "execution_count": 79,
   "id": "24589fce-d726-4e71-8c7d-6fbcedfb7178",
   "metadata": {},
   "outputs": [],
   "source": [
    "# 绘制决策边界\n",
    "x1_min, x1_max = X[:, 0].min() - 1, X[:, 0].max() + 1\n",
    "x2_min, x2_max = X[:, 1].min() - 1, X[:, 1].max() + 1\n",
    "xx1, xx2 = np.meshgrid(np.arange(x1_min, x1_max, 0.01),\n",
    "                       np.arange(x2_min, x2_max, 0.01))"
   ]
  },
  {
   "cell_type": "code",
   "execution_count": 80,
   "id": "d8a7a8f2-afe0-4864-975f-f0a90a0d46cb",
   "metadata": {},
   "outputs": [
    {
     "data": {
      "text/plain": [
       "<matplotlib.contour.QuadContourSet at 0x23e0e65c830>"
      ]
     },
     "execution_count": 80,
     "metadata": {},
     "output_type": "execute_result"
    },
    {
     "data": {
      "image/png": "[encoded data removed]",
      "text/plain": [
       "<Figure size 640x480 with 1 Axes>"
      ]
     },
     "metadata": {},
     "output_type": "display_data"
    }
   ],
   "source": [
    "Z = model.predict(np.c_[xx1.ravel(), xx2.ravel()])\n",
    "Z = np.array(Z).reshape(xx1.shape)\n",
    "plt.contourf(xx1, xx2, Z, alpha=0.3, cmap=plt.cm.coolwarm)"
   ]
  },
  {
   "cell_type": "code",
   "execution_count": 69,
   "id": "adae20e8-ac17-4214-9810-145c52aaad3b",
   "metadata": {},
   "outputs": [
    {
     "data": {
      "image/png": "[encoded data removed]",
      "text/plain": [
       "<Figure size 640x480 with 1 Axes>"
      ]
     },
     "metadata": {},
     "output_type": "display_data"
    }
   ],
   "source": [
    "plt.title('Logistic Regression Classification Result')\n",
    "plt.xlabel('Feature 1')\n",
    "plt.ylabel('Feature 2')\n",
    "plt.show()"
   ]
  },
  {
   "cell_type": "code",
   "execution_count": null,
   "id": "d6aeff6b-90fe-4a5b-a94a-428203057131",
   "metadata": {},
   "outputs": [],
   "source": []
  },
  {
   "cell_type": "code",
   "execution_count": null,
   "id": "e6c4646d-e83f-458c-a0eb-4c18466b0eee",
   "metadata": {},
   "outputs": [],
   "source": []
  }
 ],
 "metadata": {
  "kernelspec": {
   "display_name": "Python 3 (ipykernel)",
   "language": "python",
   "name": "python3"
  },
  "language_info": {
   "codemirror_mode": {
    "name": "ipython",
    "version": 3
   },
   "file_extension": ".py",
   "mimetype": "text/x-python",
   "name": "python",
   "nbconvert_exporter": "python",
   "pygments_lexer": "ipython3",
   "version": "3.12.9"
  }
 },
 "nbformat": 4,
 "nbformat_minor": 5
}
